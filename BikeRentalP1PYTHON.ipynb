{
 "cells": [
  {
   "cell_type": "code",
   "execution_count": 39,
   "metadata": {},
   "outputs": [],
   "source": [
    "#Loading Libraries\n",
    "import os\n",
    "import numpy as np\n",
    "import pandas as pd\n",
    "import matplotlib.pyplot as plt\n",
    "import seaborn as sns"
   ]
  },
  {
   "cell_type": "code",
   "execution_count": 61,
   "metadata": {},
   "outputs": [],
   "source": [
    "#Reading Data and dropping some columns\n",
    "data=pd.read_csv(\"BikeRental.csv\")\n",
    "data=data.drop(columns=\"dteday\")\n",
    "data=data.drop(columns=\"instant\")\n",
    "data=data.drop(columns=\"holiday\")"
   ]
  },
  {
   "cell_type": "code",
   "execution_count": 62,
   "metadata": {},
   "outputs": [],
   "source": [
    "#convert the datatypes of variables\n",
    "\n",
    "data['season'] = data.season.astype(\"category\")\n",
    "data['yr'] = data.yr.astype(\"category\")\n",
    "data['mnth'] = data.mnth.astype(\"category\")\n",
    "data['weekday'] = data.weekday.astype(\"category\")\n",
    "data['workingday'] = data.workingday.astype(\"category\")\n",
    "data['weathersit'] = data.weathersit.astype(\"category\")\n",
    "data['temp'] = data.temp.astype(float)\n",
    "data['casual'] = data.casual.astype(int)\n",
    "data['atemp'] = data.atemp.astype(float)\n",
    "data['hum'] = data.hum.astype(float)\n",
    "data['windspeed'] = data.windspeed.astype(float)\n",
    "data['registered'] = data.registered.astype(int)\n",
    "data['cnt'] = data.cnt.astype(int)"
   ]
  },
  {
   "cell_type": "code",
   "execution_count": 63,
   "metadata": {},
   "outputs": [
    {
     "data": {
      "text/html": [
       "<div>\n",
       "<style scoped>\n",
       "    .dataframe tbody tr th:only-of-type {\n",
       "        vertical-align: middle;\n",
       "    }\n",
       "\n",
       "    .dataframe tbody tr th {\n",
       "        vertical-align: top;\n",
       "    }\n",
       "\n",
       "    .dataframe thead th {\n",
       "        text-align: right;\n",
       "    }\n",
       "</style>\n",
       "<table border=\"1\" class=\"dataframe\">\n",
       "  <thead>\n",
       "    <tr style=\"text-align: right;\">\n",
       "      <th></th>\n",
       "      <th>season</th>\n",
       "      <th>yr</th>\n",
       "      <th>mnth</th>\n",
       "      <th>weekday</th>\n",
       "      <th>workingday</th>\n",
       "      <th>weathersit</th>\n",
       "      <th>temp</th>\n",
       "      <th>atemp</th>\n",
       "      <th>hum</th>\n",
       "      <th>windspeed</th>\n",
       "      <th>casual</th>\n",
       "      <th>registered</th>\n",
       "      <th>cnt</th>\n",
       "    </tr>\n",
       "  </thead>\n",
       "  <tbody>\n",
       "    <tr>\n",
       "      <th>0</th>\n",
       "      <td>1</td>\n",
       "      <td>0</td>\n",
       "      <td>1</td>\n",
       "      <td>6</td>\n",
       "      <td>0</td>\n",
       "      <td>2</td>\n",
       "      <td>0.344167</td>\n",
       "      <td>0.363625</td>\n",
       "      <td>0.805833</td>\n",
       "      <td>0.160446</td>\n",
       "      <td>331</td>\n",
       "      <td>654</td>\n",
       "      <td>985</td>\n",
       "    </tr>\n",
       "    <tr>\n",
       "      <th>1</th>\n",
       "      <td>1</td>\n",
       "      <td>0</td>\n",
       "      <td>1</td>\n",
       "      <td>0</td>\n",
       "      <td>0</td>\n",
       "      <td>2</td>\n",
       "      <td>0.363478</td>\n",
       "      <td>0.353739</td>\n",
       "      <td>0.696087</td>\n",
       "      <td>0.248539</td>\n",
       "      <td>131</td>\n",
       "      <td>670</td>\n",
       "      <td>801</td>\n",
       "    </tr>\n",
       "    <tr>\n",
       "      <th>2</th>\n",
       "      <td>1</td>\n",
       "      <td>0</td>\n",
       "      <td>1</td>\n",
       "      <td>1</td>\n",
       "      <td>1</td>\n",
       "      <td>1</td>\n",
       "      <td>0.196364</td>\n",
       "      <td>0.189405</td>\n",
       "      <td>0.437273</td>\n",
       "      <td>0.248309</td>\n",
       "      <td>120</td>\n",
       "      <td>1229</td>\n",
       "      <td>1349</td>\n",
       "    </tr>\n",
       "    <tr>\n",
       "      <th>3</th>\n",
       "      <td>1</td>\n",
       "      <td>0</td>\n",
       "      <td>1</td>\n",
       "      <td>2</td>\n",
       "      <td>1</td>\n",
       "      <td>1</td>\n",
       "      <td>0.200000</td>\n",
       "      <td>0.212122</td>\n",
       "      <td>0.590435</td>\n",
       "      <td>0.160296</td>\n",
       "      <td>108</td>\n",
       "      <td>1454</td>\n",
       "      <td>1562</td>\n",
       "    </tr>\n",
       "    <tr>\n",
       "      <th>4</th>\n",
       "      <td>1</td>\n",
       "      <td>0</td>\n",
       "      <td>1</td>\n",
       "      <td>3</td>\n",
       "      <td>1</td>\n",
       "      <td>1</td>\n",
       "      <td>0.226957</td>\n",
       "      <td>0.229270</td>\n",
       "      <td>0.436957</td>\n",
       "      <td>0.186900</td>\n",
       "      <td>82</td>\n",
       "      <td>1518</td>\n",
       "      <td>1600</td>\n",
       "    </tr>\n",
       "  </tbody>\n",
       "</table>\n",
       "</div>"
      ],
      "text/plain": [
       "  season yr mnth weekday workingday weathersit      temp     atemp       hum  \\\n",
       "0      1  0    1       6          0          2  0.344167  0.363625  0.805833   \n",
       "1      1  0    1       0          0          2  0.363478  0.353739  0.696087   \n",
       "2      1  0    1       1          1          1  0.196364  0.189405  0.437273   \n",
       "3      1  0    1       2          1          1  0.200000  0.212122  0.590435   \n",
       "4      1  0    1       3          1          1  0.226957  0.229270  0.436957   \n",
       "\n",
       "   windspeed  casual  registered   cnt  \n",
       "0   0.160446     331         654   985  \n",
       "1   0.248539     131         670   801  \n",
       "2   0.248309     120        1229  1349  \n",
       "3   0.160296     108        1454  1562  \n",
       "4   0.186900      82        1518  1600  "
      ]
     },
     "execution_count": 63,
     "metadata": {},
     "output_type": "execute_result"
    }
   ],
   "source": [
    "#Checking the data\n",
    "data.head(5)"
   ]
  },
  {
   "cell_type": "code",
   "execution_count": 5,
   "metadata": {},
   "outputs": [],
   "source": [
    "#missing value analysis\n",
    "\n",
    "#Here we are checking the count of missing values in each variable\n",
    "\n",
    "missing_val=pd.DataFrame(data.isnull().sum())"
   ]
  },
  {
   "cell_type": "code",
   "execution_count": 43,
   "metadata": {},
   "outputs": [
    {
     "data": {
      "text/html": [
       "<div>\n",
       "<style scoped>\n",
       "    .dataframe tbody tr th:only-of-type {\n",
       "        vertical-align: middle;\n",
       "    }\n",
       "\n",
       "    .dataframe tbody tr th {\n",
       "        vertical-align: top;\n",
       "    }\n",
       "\n",
       "    .dataframe thead th {\n",
       "        text-align: right;\n",
       "    }\n",
       "</style>\n",
       "<table border=\"1\" class=\"dataframe\">\n",
       "  <thead>\n",
       "    <tr style=\"text-align: right;\">\n",
       "      <th></th>\n",
       "      <th>0</th>\n",
       "    </tr>\n",
       "  </thead>\n",
       "  <tbody>\n",
       "    <tr>\n",
       "      <th>season</th>\n",
       "      <td>0</td>\n",
       "    </tr>\n",
       "    <tr>\n",
       "      <th>yr</th>\n",
       "      <td>0</td>\n",
       "    </tr>\n",
       "    <tr>\n",
       "      <th>mnth</th>\n",
       "      <td>0</td>\n",
       "    </tr>\n",
       "    <tr>\n",
       "      <th>weekday</th>\n",
       "      <td>0</td>\n",
       "    </tr>\n",
       "    <tr>\n",
       "      <th>workingday</th>\n",
       "      <td>0</td>\n",
       "    </tr>\n",
       "    <tr>\n",
       "      <th>weathersit</th>\n",
       "      <td>0</td>\n",
       "    </tr>\n",
       "    <tr>\n",
       "      <th>temp</th>\n",
       "      <td>0</td>\n",
       "    </tr>\n",
       "    <tr>\n",
       "      <th>atemp</th>\n",
       "      <td>0</td>\n",
       "    </tr>\n",
       "    <tr>\n",
       "      <th>hum</th>\n",
       "      <td>0</td>\n",
       "    </tr>\n",
       "    <tr>\n",
       "      <th>windspeed</th>\n",
       "      <td>46</td>\n",
       "    </tr>\n",
       "    <tr>\n",
       "      <th>casual</th>\n",
       "      <td>73</td>\n",
       "    </tr>\n",
       "    <tr>\n",
       "      <th>registered</th>\n",
       "      <td>0</td>\n",
       "    </tr>\n",
       "    <tr>\n",
       "      <th>cnt</th>\n",
       "      <td>0</td>\n",
       "    </tr>\n",
       "  </tbody>\n",
       "</table>\n",
       "</div>"
      ],
      "text/plain": [
       "             0\n",
       "season       0\n",
       "yr           0\n",
       "mnth         0\n",
       "weekday      0\n",
       "workingday   0\n",
       "weathersit   0\n",
       "temp         0\n",
       "atemp        0\n",
       "hum          0\n",
       "windspeed   46\n",
       "casual      73\n",
       "registered   0\n",
       "cnt          0"
      ]
     },
     "execution_count": 43,
     "metadata": {},
     "output_type": "execute_result"
    }
   ],
   "source": [
    "#Checking the Count\n",
    "missing_val"
   ]
  },
  {
   "cell_type": "code",
   "execution_count": 64,
   "metadata": {},
   "outputs": [
    {
     "data": {
      "text/plain": [
       "(731, 13)"
      ]
     },
     "execution_count": 64,
     "metadata": {},
     "output_type": "execute_result"
    }
   ],
   "source": [
    "#Checking the dimensions of the data\n",
    "data.shape"
   ]
  },
  {
   "cell_type": "code",
   "execution_count": 8,
   "metadata": {},
   "outputs": [
    {
     "data": {
      "text/plain": [
       "{'whiskers': [<matplotlib.lines.Line2D at 0x1fce12d57f0>,\n",
       "  <matplotlib.lines.Line2D at 0x1fce12d5b38>],\n",
       " 'caps': [<matplotlib.lines.Line2D at 0x1fce12d5e80>,\n",
       "  <matplotlib.lines.Line2D at 0x1fce12d5f60>],\n",
       " 'boxes': [<matplotlib.lines.Line2D at 0x1fce12d5400>],\n",
       " 'medians': [<matplotlib.lines.Line2D at 0x1fce12eb550>],\n",
       " 'fliers': [<matplotlib.lines.Line2D at 0x1fce12eb898>],\n",
       " 'means': []}"
      ]
     },
     "execution_count": 8,
     "metadata": {},
     "output_type": "execute_result"
    },
    {
     "data": {
      "image/png": "[encoded data removed]",
      "text/plain": [
       "<Figure size 432x288 with 1 Axes>"
      ]
     },
     "metadata": {
      "needs_background": "light"
     },
     "output_type": "display_data"
    }
   ],
   "source": [
    "#Outlier Analysis\n",
    "#Finding outliers using boxplot\n",
    "\n",
    "plt.boxplot(data[\"temp\"])\n",
    "#As we have no outliers we proceed to next variable"
   ]
  },
  {
   "cell_type": "code",
   "execution_count": 9,
   "metadata": {},
   "outputs": [
    {
     "data": {
      "text/plain": [
       "{'whiskers': [<matplotlib.lines.Line2D at 0x1fce136f4e0>,\n",
       "  <matplotlib.lines.Line2D at 0x1fce136f828>],\n",
       " 'caps': [<matplotlib.lines.Line2D at 0x1fce136fb70>,\n",
       "  <matplotlib.lines.Line2D at 0x1fce136feb8>],\n",
       " 'boxes': [<matplotlib.lines.Line2D at 0x1fce1365d68>],\n",
       " 'medians': [<matplotlib.lines.Line2D at 0x1fce136ff98>],\n",
       " 'fliers': [<matplotlib.lines.Line2D at 0x1fce1378588>],\n",
       " 'means': []}"
      ]
     },
     "execution_count": 9,
     "metadata": {},
     "output_type": "execute_result"
    },
    {
     "data": {
      "image/png": "[encoded data removed]",
      "text/plain": [
       "<Figure size 432x288 with 1 Axes>"
      ]
     },
     "metadata": {
      "needs_background": "light"
     },
     "output_type": "display_data"
    }
   ],
   "source": [
    "plt.boxplot(data[\"atemp\"])\n",
    "#As we have no outliers we proceed to next variable"
   ]
  },
  {
   "cell_type": "code",
   "execution_count": 10,
   "metadata": {},
   "outputs": [
    {
     "data": {
      "text/plain": [
       "{'whiskers': [<matplotlib.lines.Line2D at 0x1fce13ccac8>,\n",
       "  <matplotlib.lines.Line2D at 0x1fce13cce10>],\n",
       " 'caps': [<matplotlib.lines.Line2D at 0x1fce13ccef0>,\n",
       "  <matplotlib.lines.Line2D at 0x1fce13d54e0>],\n",
       " 'boxes': [<matplotlib.lines.Line2D at 0x1fce13cc6d8>],\n",
       " 'medians': [<matplotlib.lines.Line2D at 0x1fce13d5828>],\n",
       " 'fliers': [<matplotlib.lines.Line2D at 0x1fce13d5b70>],\n",
       " 'means': []}"
      ]
     },
     "execution_count": 10,
     "metadata": {},
     "output_type": "execute_result"
    },
    {
     "data": {
      "image/png": "[encoded data removed]",
      "text/plain": [
       "<Figure size 432x288 with 1 Axes>"
      ]
     },
     "metadata": {
      "needs_background": "light"
     },
     "output_type": "display_data"
    }
   ],
   "source": [
    "#Before removing outliers the windspeed variable is \n",
    "plt.boxplot(data[\"windspeed\"])\n",
    "#As we have outliers we have to take note of this variable and proceed to next variable"
   ]
  },
  {
   "cell_type": "code",
   "execution_count": 11,
   "metadata": {},
   "outputs": [
    {
     "data": {
      "text/plain": [
       "{'whiskers': [<matplotlib.lines.Line2D at 0x1fce142d5c0>,\n",
       "  <matplotlib.lines.Line2D at 0x1fce142d908>],\n",
       " 'caps': [<matplotlib.lines.Line2D at 0x1fce142dc50>,\n",
       "  <matplotlib.lines.Line2D at 0x1fce142df98>],\n",
       " 'boxes': [<matplotlib.lines.Line2D at 0x1fce1421e48>],\n",
       " 'medians': [<matplotlib.lines.Line2D at 0x1fce1436320>],\n",
       " 'fliers': [<matplotlib.lines.Line2D at 0x1fce1436668>],\n",
       " 'means': []}"
      ]
     },
     "execution_count": 11,
     "metadata": {},
     "output_type": "execute_result"
    },
    {
     "data": {
      "image/png": "[encoded data removed]",
      "text/plain": [
       "<Figure size 432x288 with 1 Axes>"
      ]
     },
     "metadata": {
      "needs_background": "light"
     },
     "output_type": "display_data"
    }
   ],
   "source": [
    "plt.boxplot(data['casual'])\n",
    "#As we have outliers we have to take note of this variable and proceed to next variable"
   ]
  },
  {
   "cell_type": "code",
   "execution_count": 12,
   "metadata": {},
   "outputs": [
    {
     "data": {
      "text/plain": [
       "{'whiskers': [<matplotlib.lines.Line2D at 0x1fce148d748>,\n",
       "  <matplotlib.lines.Line2D at 0x1fce148da90>],\n",
       " 'caps': [<matplotlib.lines.Line2D at 0x1fce148ddd8>,\n",
       "  <matplotlib.lines.Line2D at 0x1fce148deb8>],\n",
       " 'boxes': [<matplotlib.lines.Line2D at 0x1fce1482fd0>],\n",
       " 'medians': [<matplotlib.lines.Line2D at 0x1fce14944a8>],\n",
       " 'fliers': [<matplotlib.lines.Line2D at 0x1fce14947f0>],\n",
       " 'means': []}"
      ]
     },
     "execution_count": 12,
     "metadata": {},
     "output_type": "execute_result"
    },
    {
     "data": {
      "image/png": "[encoded data removed]",
      "text/plain": [
       "<Figure size 432x288 with 1 Axes>"
      ]
     },
     "metadata": {
      "needs_background": "light"
     },
     "output_type": "display_data"
    }
   ],
   "source": [
    "plt.boxplot(data[\"temp\"])\n",
    "#As we have no outliers we proceed to next variable"
   ]
  },
  {
   "cell_type": "code",
   "execution_count": 13,
   "metadata": {},
   "outputs": [
    {
     "data": {
      "text/plain": [
       "{'whiskers': [<matplotlib.lines.Line2D at 0x1fce14e7dd8>,\n",
       "  <matplotlib.lines.Line2D at 0x1fce14e7eb8>],\n",
       " 'caps': [<matplotlib.lines.Line2D at 0x1fce14f04a8>,\n",
       "  <matplotlib.lines.Line2D at 0x1fce14f07f0>],\n",
       " 'boxes': [<matplotlib.lines.Line2D at 0x1fce14e79e8>],\n",
       " 'medians': [<matplotlib.lines.Line2D at 0x1fce14f0b38>],\n",
       " 'fliers': [<matplotlib.lines.Line2D at 0x1fce14f0e80>],\n",
       " 'means': []}"
      ]
     },
     "execution_count": 13,
     "metadata": {},
     "output_type": "execute_result"
    },
    {
     "data": {
      "image/png": "[encoded data removed]",
      "text/plain": [
       "<Figure size 432x288 with 1 Axes>"
      ]
     },
     "metadata": {
      "needs_background": "light"
     },
     "output_type": "display_data"
    }
   ],
   "source": [
    "plt.boxplot(data[\"registered\"])\n",
    "#As we have no outliers we proceed to next task of removing the outliers"
   ]
  },
  {
   "cell_type": "code",
   "execution_count": 65,
   "metadata": {},
   "outputs": [
    {
     "name": "stdout",
     "output_type": "stream",
     "text": [
      "0.2332145 0.13495\n",
      "0.03668549999999998 0.33147899999999997\n"
     ]
    }
   ],
   "source": [
    "#Here we are going to calculate the percentiles i.e 25,50,75 and calculate the outer regions and remove \n",
    "#the outliers that are present outside the regions\n",
    "\n",
    "#calculating 75th and 25th percentile\n",
    "q75,q25=np.percentile(data['windspeed'],[75,25])\n",
    "print(q75,q25)\n",
    "#calculating 50th percentile\n",
    "iqr= q75-q25\n",
    "iqr\n",
    "#calculating inner and outer fence\n",
    "min1=q25-(iqr)\n",
    "max1=q75+(iqr)\n",
    "print(min1,max1)\n",
    "data.loc[data['windspeed']<min1,'windspeed']=np.nan\n",
    "data.loc[data['windspeed']>max1,'windspeed']=np.nan"
   ]
  },
  {
   "cell_type": "code",
   "execution_count": 66,
   "metadata": {},
   "outputs": [
    {
     "name": "stdout",
     "output_type": "stream",
     "text": [
      "1096.0 315.5\n",
      "-465.0 1876.5\n"
     ]
    }
   ],
   "source": [
    "#calculating 75th and 25th percentile\n",
    "q75,q25=np.percentile(data['casual'],[75,25])\n",
    "print(q75,q25)\n",
    "#calculating 50th percentile\n",
    "iqr= q75-q25\n",
    "iqr\n",
    "#calculating inner and outer fence\n",
    "min1=q25-(iqr)\n",
    "max1=q75+(iqr)\n",
    "print(min1,max1)\n",
    "data.loc[data['casual']<min1,'casual']=np.nan\n",
    "data.loc[data['casual']>max1,'casual']=np.nan"
   ]
  },
  {
   "cell_type": "code",
   "execution_count": 67,
   "metadata": {},
   "outputs": [
    {
     "data": {
      "text/html": [
       "<div>\n",
       "<style scoped>\n",
       "    .dataframe tbody tr th:only-of-type {\n",
       "        vertical-align: middle;\n",
       "    }\n",
       "\n",
       "    .dataframe tbody tr th {\n",
       "        vertical-align: top;\n",
       "    }\n",
       "\n",
       "    .dataframe thead th {\n",
       "        text-align: right;\n",
       "    }\n",
       "</style>\n",
       "<table border=\"1\" class=\"dataframe\">\n",
       "  <thead>\n",
       "    <tr style=\"text-align: right;\">\n",
       "      <th></th>\n",
       "      <th>0</th>\n",
       "    </tr>\n",
       "  </thead>\n",
       "  <tbody>\n",
       "    <tr>\n",
       "      <th>season</th>\n",
       "      <td>0</td>\n",
       "    </tr>\n",
       "    <tr>\n",
       "      <th>yr</th>\n",
       "      <td>0</td>\n",
       "    </tr>\n",
       "    <tr>\n",
       "      <th>mnth</th>\n",
       "      <td>0</td>\n",
       "    </tr>\n",
       "    <tr>\n",
       "      <th>weekday</th>\n",
       "      <td>0</td>\n",
       "    </tr>\n",
       "    <tr>\n",
       "      <th>workingday</th>\n",
       "      <td>0</td>\n",
       "    </tr>\n",
       "    <tr>\n",
       "      <th>weathersit</th>\n",
       "      <td>0</td>\n",
       "    </tr>\n",
       "    <tr>\n",
       "      <th>temp</th>\n",
       "      <td>0</td>\n",
       "    </tr>\n",
       "    <tr>\n",
       "      <th>atemp</th>\n",
       "      <td>0</td>\n",
       "    </tr>\n",
       "    <tr>\n",
       "      <th>hum</th>\n",
       "      <td>0</td>\n",
       "    </tr>\n",
       "    <tr>\n",
       "      <th>windspeed</th>\n",
       "      <td>46</td>\n",
       "    </tr>\n",
       "    <tr>\n",
       "      <th>casual</th>\n",
       "      <td>73</td>\n",
       "    </tr>\n",
       "    <tr>\n",
       "      <th>registered</th>\n",
       "      <td>0</td>\n",
       "    </tr>\n",
       "    <tr>\n",
       "      <th>cnt</th>\n",
       "      <td>0</td>\n",
       "    </tr>\n",
       "  </tbody>\n",
       "</table>\n",
       "</div>"
      ],
      "text/plain": [
       "             0\n",
       "season       0\n",
       "yr           0\n",
       "mnth         0\n",
       "weekday      0\n",
       "workingday   0\n",
       "weathersit   0\n",
       "temp         0\n",
       "atemp        0\n",
       "hum          0\n",
       "windspeed   46\n",
       "casual      73\n",
       "registered   0\n",
       "cnt          0"
      ]
     },
     "execution_count": 67,
     "metadata": {},
     "output_type": "execute_result"
    }
   ],
   "source": [
    "#checking the no of missing values after making the outlier values NULL, You can refer to missing value analysis done above to\n",
    "# Check the missing values for each variable that we have done previously\n",
    "\n",
    "missing_val=pd.DataFrame(data.isnull().sum())\n",
    "missing_val"
   ]
  },
  {
   "cell_type": "code",
   "execution_count": 68,
   "metadata": {},
   "outputs": [],
   "source": [
    "#Setting the best fitted method for filling the NULL values.\n",
    "data['windspeed']=data['windspeed'].fillna(data['windspeed'].mean())\n",
    "data['casual']=data['casual'].fillna(data['casual'].mean())"
   ]
  },
  {
   "cell_type": "code",
   "execution_count": 69,
   "metadata": {},
   "outputs": [
    {
     "data": {
      "text/plain": [
       "{'whiskers': [<matplotlib.lines.Line2D at 0x1fce4493860>,\n",
       "  <matplotlib.lines.Line2D at 0x1fce4493ba8>],\n",
       " 'caps': [<matplotlib.lines.Line2D at 0x1fce4493ef0>,\n",
       "  <matplotlib.lines.Line2D at 0x1fce4493fd0>],\n",
       " 'boxes': [<matplotlib.lines.Line2D at 0x1fce4493470>],\n",
       " 'medians': [<matplotlib.lines.Line2D at 0x1fce449d5c0>],\n",
       " 'fliers': [<matplotlib.lines.Line2D at 0x1fce449d908>],\n",
       " 'means': []}"
      ]
     },
     "execution_count": 69,
     "metadata": {},
     "output_type": "execute_result"
    },
    {
     "data": {
      "image/png": "[encoded data removed]",
      "text/plain": [
       "<Figure size 432x288 with 1 Axes>"
      ]
     },
     "metadata": {
      "needs_background": "light"
     },
     "output_type": "display_data"
    }
   ],
   "source": [
    "#After doing outlier analysis the windspeed variable is \n",
    "plt.boxplot(data[\"windspeed\"])"
   ]
  },
  {
   "cell_type": "code",
   "execution_count": 19,
   "metadata": {},
   "outputs": [
    {
     "data": {
      "text/plain": [
       "{'whiskers': [<matplotlib.lines.Line2D at 0x1fce15b2978>,\n",
       "  <matplotlib.lines.Line2D at 0x1fce15b2cc0>],\n",
       " 'caps': [<matplotlib.lines.Line2D at 0x1fce15b2da0>,\n",
       "  <matplotlib.lines.Line2D at 0x1fce15ba390>],\n",
       " 'boxes': [<matplotlib.lines.Line2D at 0x1fce15b2588>],\n",
       " 'medians': [<matplotlib.lines.Line2D at 0x1fce15ba6d8>],\n",
       " 'fliers': [<matplotlib.lines.Line2D at 0x1fce15baa20>],\n",
       " 'means': []}"
      ]
     },
     "execution_count": 19,
     "metadata": {},
     "output_type": "execute_result"
    },
    {
     "data": {
      "image/png": "[encoded data removed]",
      "text/plain": [
       "<Figure size 432x288 with 1 Axes>"
      ]
     },
     "metadata": {
      "needs_background": "light"
     },
     "output_type": "display_data"
    }
   ],
   "source": [
    "#After doing outlier analysis the casual variable is \n",
    "plt.boxplot(data[\"casual\"])"
   ]
  },
  {
   "cell_type": "code",
   "execution_count": 46,
   "metadata": {},
   "outputs": [],
   "source": [
    "#Now we have to do the feature selection :\n",
    "\n",
    "#correlation plot for numerical variables\n",
    "num_cnames=['registered','casual','windspeed','hum','atemp','temp','cnt']\n",
    "df_corr=data.loc[:,num_cnames]"
   ]
  },
  {
   "cell_type": "code",
   "execution_count": 47,
   "metadata": {},
   "outputs": [
    {
     "data": {
      "text/plain": [
       "<matplotlib.axes._subplots.AxesSubplot at 0x1fce2a3ce80>"
      ]
     },
     "execution_count": 47,
     "metadata": {},
     "output_type": "execute_result"
    },
    {
     "data": {
      "image/png": "[encoded data removed]",
      "text/plain": [
       "<Figure size 504x360 with 2 Axes>"
      ]
     },
     "metadata": {
      "needs_background": "light"
     },
     "output_type": "display_data"
    }
   ],
   "source": [
    "#set width and height of the plot\n",
    "f,ax=plt.subplots(figsize=(7,5))\n",
    "\n",
    "#generate co-relation matrix\n",
    "corr=df_corr.corr()\n",
    "\n",
    "#plotting\n",
    "\n",
    "sns.heatmap(corr,mask=np.zeros_like(corr,dtype=np.bool),square=True,ax=ax)"
   ]
  },
  {
   "cell_type": "code",
   "execution_count": 70,
   "metadata": {},
   "outputs": [],
   "source": [
    "#here we can see that Both windspeed and hum are not having high relation with cnt i.e our dependent variable so, lets's \n",
    "#drop those two variables\n",
    "\n",
    "data=data.drop(columns=\"windspeed\")\n",
    "data=data.drop(columns=\"hum\")"
   ]
  },
  {
   "cell_type": "code",
   "execution_count": 71,
   "metadata": {},
   "outputs": [
    {
     "data": {
      "text/plain": [
       "(731, 11)"
      ]
     },
     "execution_count": 71,
     "metadata": {},
     "output_type": "execute_result"
    }
   ],
   "source": [
    "#Checking the number of variables after removal\n",
    "data.shape"
   ]
  },
  {
   "cell_type": "code",
   "execution_count": 72,
   "metadata": {},
   "outputs": [
    {
     "data": {
      "text/html": [
       "<div>\n",
       "<style scoped>\n",
       "    .dataframe tbody tr th:only-of-type {\n",
       "        vertical-align: middle;\n",
       "    }\n",
       "\n",
       "    .dataframe tbody tr th {\n",
       "        vertical-align: top;\n",
       "    }\n",
       "\n",
       "    .dataframe thead th {\n",
       "        text-align: right;\n",
       "    }\n",
       "</style>\n",
       "<table border=\"1\" class=\"dataframe\">\n",
       "  <thead>\n",
       "    <tr style=\"text-align: right;\">\n",
       "      <th></th>\n",
       "      <th>season</th>\n",
       "      <th>yr</th>\n",
       "      <th>mnth</th>\n",
       "      <th>weekday</th>\n",
       "      <th>workingday</th>\n",
       "      <th>weathersit</th>\n",
       "      <th>temp</th>\n",
       "      <th>atemp</th>\n",
       "      <th>casual</th>\n",
       "      <th>registered</th>\n",
       "      <th>cnt</th>\n",
       "    </tr>\n",
       "  </thead>\n",
       "  <tbody>\n",
       "    <tr>\n",
       "      <th>0</th>\n",
       "      <td>1</td>\n",
       "      <td>0</td>\n",
       "      <td>1</td>\n",
       "      <td>6</td>\n",
       "      <td>0</td>\n",
       "      <td>2</td>\n",
       "      <td>0.344167</td>\n",
       "      <td>0.363625</td>\n",
       "      <td>331.0</td>\n",
       "      <td>654</td>\n",
       "      <td>985</td>\n",
       "    </tr>\n",
       "    <tr>\n",
       "      <th>1</th>\n",
       "      <td>1</td>\n",
       "      <td>0</td>\n",
       "      <td>1</td>\n",
       "      <td>0</td>\n",
       "      <td>0</td>\n",
       "      <td>2</td>\n",
       "      <td>0.363478</td>\n",
       "      <td>0.353739</td>\n",
       "      <td>131.0</td>\n",
       "      <td>670</td>\n",
       "      <td>801</td>\n",
       "    </tr>\n",
       "    <tr>\n",
       "      <th>2</th>\n",
       "      <td>1</td>\n",
       "      <td>0</td>\n",
       "      <td>1</td>\n",
       "      <td>1</td>\n",
       "      <td>1</td>\n",
       "      <td>1</td>\n",
       "      <td>0.196364</td>\n",
       "      <td>0.189405</td>\n",
       "      <td>120.0</td>\n",
       "      <td>1229</td>\n",
       "      <td>1349</td>\n",
       "    </tr>\n",
       "    <tr>\n",
       "      <th>3</th>\n",
       "      <td>1</td>\n",
       "      <td>0</td>\n",
       "      <td>1</td>\n",
       "      <td>2</td>\n",
       "      <td>1</td>\n",
       "      <td>1</td>\n",
       "      <td>0.200000</td>\n",
       "      <td>0.212122</td>\n",
       "      <td>108.0</td>\n",
       "      <td>1454</td>\n",
       "      <td>1562</td>\n",
       "    </tr>\n",
       "    <tr>\n",
       "      <th>4</th>\n",
       "      <td>1</td>\n",
       "      <td>0</td>\n",
       "      <td>1</td>\n",
       "      <td>3</td>\n",
       "      <td>1</td>\n",
       "      <td>1</td>\n",
       "      <td>0.226957</td>\n",
       "      <td>0.229270</td>\n",
       "      <td>82.0</td>\n",
       "      <td>1518</td>\n",
       "      <td>1600</td>\n",
       "    </tr>\n",
       "  </tbody>\n",
       "</table>\n",
       "</div>"
      ],
      "text/plain": [
       "  season yr mnth weekday workingday weathersit      temp     atemp  casual  \\\n",
       "0      1  0    1       6          0          2  0.344167  0.363625   331.0   \n",
       "1      1  0    1       0          0          2  0.363478  0.353739   131.0   \n",
       "2      1  0    1       1          1          1  0.196364  0.189405   120.0   \n",
       "3      1  0    1       2          1          1  0.200000  0.212122   108.0   \n",
       "4      1  0    1       3          1          1  0.226957  0.229270    82.0   \n",
       "\n",
       "   registered   cnt  \n",
       "0         654   985  \n",
       "1         670   801  \n",
       "2        1229  1349  \n",
       "3        1454  1562  \n",
       "4        1518  1600  "
      ]
     },
     "execution_count": 72,
     "metadata": {},
     "output_type": "execute_result"
    }
   ],
   "source": [
    "#Checking the data\n",
    "data.head(5)"
   ]
  },
  {
   "cell_type": "code",
   "execution_count": 51,
   "metadata": {},
   "outputs": [
    {
     "data": {
      "text/plain": [
       "(array([  7.,  27.,  53.,  57.,  37.,  65.,  95., 101.,  78.,  51.,  48.,\n",
       "         64.,  38.,  10.]),\n",
       " array([  22.        ,  642.85714286, 1263.71428571, 1884.57142857,\n",
       "        2505.42857143, 3126.28571429, 3747.14285714, 4368.        ,\n",
       "        4988.85714286, 5609.71428571, 6230.57142857, 6851.42857143,\n",
       "        7472.28571429, 8093.14285714, 8714.        ]),\n",
       " <a list of 14 Patch objects>)"
      ]
     },
     "execution_count": 51,
     "metadata": {},
     "output_type": "execute_result"
    },
    {
     "data": {
      "image/png": "[encoded data removed]",
      "text/plain": [
       "<Figure size 432x288 with 1 Axes>"
      ]
     },
     "metadata": {
      "needs_background": "light"
     },
     "output_type": "display_data"
    }
   ],
   "source": [
    "#performing feature scaling\n",
    "df=data.copy()\n",
    "num_cnames=['registered','casual','windspeed','hum','atemp','temp','cnt']\n",
    "#normality check\n",
    "\n",
    "plt.hist(data['casual'],bins='auto')\n",
    "plt.hist(data['registered'],bins='auto')\n",
    "plt.hist(data['cnt'],bins='auto')"
   ]
  },
  {
   "cell_type": "code",
   "execution_count": 73,
   "metadata": {},
   "outputs": [
    {
     "name": "stdout",
     "output_type": "stream",
     "text": [
      "registered\n",
      "casual\n",
      "cnt\n"
     ]
    }
   ],
   "source": [
    "# Performing normalization: \n",
    "cnames=['registered','casual','cnt']\n",
    "\n",
    "for i in cnames:\n",
    "    print(i)\n",
    "    data[i]=(data[i]-np.min(data[i]))/(np.max(data[i])-np.min(data[i]))"
   ]
  },
  {
   "cell_type": "code",
   "execution_count": 74,
   "metadata": {},
   "outputs": [],
   "source": [
    "#Sampling:\n",
    "\n",
    "from sklearn.model_selection import train_test_split\n",
    "train, test = train_test_split(data, test_size=0.2)"
   ]
  },
  {
   "cell_type": "code",
   "execution_count": 75,
   "metadata": {},
   "outputs": [
    {
     "data": {
      "text/plain": [
       "(147, 11)"
      ]
     },
     "execution_count": 75,
     "metadata": {},
     "output_type": "execute_result"
    }
   ],
   "source": [
    "#Checking the No of Rows and columns of the train and test datasets\n",
    "test.shape"
   ]
  },
  {
   "cell_type": "code",
   "execution_count": 76,
   "metadata": {},
   "outputs": [
    {
     "data": {
      "text/plain": [
       "(584, 11)"
      ]
     },
     "execution_count": 76,
     "metadata": {},
     "output_type": "execute_result"
    }
   ],
   "source": [
    "train.shape"
   ]
  },
  {
   "cell_type": "code",
   "execution_count": 77,
   "metadata": {},
   "outputs": [
    {
     "data": {
      "text/html": [
       "<div>\n",
       "<style scoped>\n",
       "    .dataframe tbody tr th:only-of-type {\n",
       "        vertical-align: middle;\n",
       "    }\n",
       "\n",
       "    .dataframe tbody tr th {\n",
       "        vertical-align: top;\n",
       "    }\n",
       "\n",
       "    .dataframe thead th {\n",
       "        text-align: right;\n",
       "    }\n",
       "</style>\n",
       "<table border=\"1\" class=\"dataframe\">\n",
       "  <thead>\n",
       "    <tr style=\"text-align: right;\">\n",
       "      <th></th>\n",
       "      <th>season</th>\n",
       "      <th>yr</th>\n",
       "      <th>mnth</th>\n",
       "      <th>weekday</th>\n",
       "      <th>workingday</th>\n",
       "      <th>weathersit</th>\n",
       "      <th>temp</th>\n",
       "      <th>atemp</th>\n",
       "      <th>casual</th>\n",
       "      <th>registered</th>\n",
       "      <th>cnt</th>\n",
       "    </tr>\n",
       "  </thead>\n",
       "  <tbody>\n",
       "    <tr>\n",
       "      <th>308</th>\n",
       "      <td>4</td>\n",
       "      <td>0</td>\n",
       "      <td>11</td>\n",
       "      <td>6</td>\n",
       "      <td>0</td>\n",
       "      <td>1</td>\n",
       "      <td>0.326667</td>\n",
       "      <td>0.323854</td>\n",
       "      <td>0.618104</td>\n",
       "      <td>0.397055</td>\n",
       "      <td>0.449149</td>\n",
       "    </tr>\n",
       "    <tr>\n",
       "      <th>137</th>\n",
       "      <td>2</td>\n",
       "      <td>0</td>\n",
       "      <td>5</td>\n",
       "      <td>3</td>\n",
       "      <td>1</td>\n",
       "      <td>2</td>\n",
       "      <td>0.550000</td>\n",
       "      <td>0.527158</td>\n",
       "      <td>0.286020</td>\n",
       "      <td>0.476321</td>\n",
       "      <td>0.440980</td>\n",
       "    </tr>\n",
       "    <tr>\n",
       "      <th>670</th>\n",
       "      <td>4</td>\n",
       "      <td>1</td>\n",
       "      <td>11</td>\n",
       "      <td>4</td>\n",
       "      <td>1</td>\n",
       "      <td>2</td>\n",
       "      <td>0.365833</td>\n",
       "      <td>0.369942</td>\n",
       "      <td>0.248527</td>\n",
       "      <td>0.794109</td>\n",
       "      <td>0.686148</td>\n",
       "    </tr>\n",
       "    <tr>\n",
       "      <th>67</th>\n",
       "      <td>1</td>\n",
       "      <td>0</td>\n",
       "      <td>3</td>\n",
       "      <td>3</td>\n",
       "      <td>1</td>\n",
       "      <td>2</td>\n",
       "      <td>0.295833</td>\n",
       "      <td>0.286608</td>\n",
       "      <td>0.101232</td>\n",
       "      <td>0.242564</td>\n",
       "      <td>0.215025</td>\n",
       "    </tr>\n",
       "    <tr>\n",
       "      <th>433</th>\n",
       "      <td>1</td>\n",
       "      <td>1</td>\n",
       "      <td>3</td>\n",
       "      <td>5</td>\n",
       "      <td>1</td>\n",
       "      <td>2</td>\n",
       "      <td>0.410833</td>\n",
       "      <td>0.397083</td>\n",
       "      <td>0.238350</td>\n",
       "      <td>0.592261</td>\n",
       "      <td>0.523125</td>\n",
       "    </tr>\n",
       "  </tbody>\n",
       "</table>\n",
       "</div>"
      ],
      "text/plain": [
       "    season yr mnth weekday workingday weathersit      temp     atemp  \\\n",
       "308      4  0   11       6          0          1  0.326667  0.323854   \n",
       "137      2  0    5       3          1          2  0.550000  0.527158   \n",
       "670      4  1   11       4          1          2  0.365833  0.369942   \n",
       "67       1  0    3       3          1          2  0.295833  0.286608   \n",
       "433      1  1    3       5          1          2  0.410833  0.397083   \n",
       "\n",
       "       casual  registered       cnt  \n",
       "308  0.618104    0.397055  0.449149  \n",
       "137  0.286020    0.476321  0.440980  \n",
       "670  0.248527    0.794109  0.686148  \n",
       "67   0.101232    0.242564  0.215025  \n",
       "433  0.238350    0.592261  0.523125  "
      ]
     },
     "execution_count": 77,
     "metadata": {},
     "output_type": "execute_result"
    }
   ],
   "source": [
    "#Checking both the top 5 rows and columns\n",
    "train.head(5)"
   ]
  },
  {
   "cell_type": "code",
   "execution_count": 31,
   "metadata": {},
   "outputs": [
    {
     "data": {
      "text/html": [
       "<div>\n",
       "<style scoped>\n",
       "    .dataframe tbody tr th:only-of-type {\n",
       "        vertical-align: middle;\n",
       "    }\n",
       "\n",
       "    .dataframe tbody tr th {\n",
       "        vertical-align: top;\n",
       "    }\n",
       "\n",
       "    .dataframe thead th {\n",
       "        text-align: right;\n",
       "    }\n",
       "</style>\n",
       "<table border=\"1\" class=\"dataframe\">\n",
       "  <thead>\n",
       "    <tr style=\"text-align: right;\">\n",
       "      <th></th>\n",
       "      <th>season</th>\n",
       "      <th>yr</th>\n",
       "      <th>mnth</th>\n",
       "      <th>weekday</th>\n",
       "      <th>workingday</th>\n",
       "      <th>weathersit</th>\n",
       "      <th>temp</th>\n",
       "      <th>atemp</th>\n",
       "      <th>casual</th>\n",
       "      <th>registered</th>\n",
       "      <th>cnt</th>\n",
       "    </tr>\n",
       "  </thead>\n",
       "  <tbody>\n",
       "    <tr>\n",
       "      <th>281</th>\n",
       "      <td>4</td>\n",
       "      <td>0</td>\n",
       "      <td>10</td>\n",
       "      <td>0</td>\n",
       "      <td>0</td>\n",
       "      <td>1</td>\n",
       "      <td>0.540833</td>\n",
       "      <td>0.523983</td>\n",
       "      <td>0.358667</td>\n",
       "      <td>0.446722</td>\n",
       "      <td>0.631500</td>\n",
       "    </tr>\n",
       "    <tr>\n",
       "      <th>211</th>\n",
       "      <td>3</td>\n",
       "      <td>0</td>\n",
       "      <td>7</td>\n",
       "      <td>0</td>\n",
       "      <td>0</td>\n",
       "      <td>1</td>\n",
       "      <td>0.805833</td>\n",
       "      <td>0.729796</td>\n",
       "      <td>0.815212</td>\n",
       "      <td>0.398210</td>\n",
       "      <td>0.492407</td>\n",
       "    </tr>\n",
       "    <tr>\n",
       "      <th>16</th>\n",
       "      <td>1</td>\n",
       "      <td>0</td>\n",
       "      <td>1</td>\n",
       "      <td>1</td>\n",
       "      <td>0</td>\n",
       "      <td>2</td>\n",
       "      <td>0.175833</td>\n",
       "      <td>0.176771</td>\n",
       "      <td>0.061596</td>\n",
       "      <td>0.124603</td>\n",
       "      <td>0.112517</td>\n",
       "    </tr>\n",
       "    <tr>\n",
       "      <th>363</th>\n",
       "      <td>1</td>\n",
       "      <td>0</td>\n",
       "      <td>12</td>\n",
       "      <td>5</td>\n",
       "      <td>1</td>\n",
       "      <td>1</td>\n",
       "      <td>0.311667</td>\n",
       "      <td>0.318812</td>\n",
       "      <td>0.261918</td>\n",
       "      <td>0.359226</td>\n",
       "      <td>0.342499</td>\n",
       "    </tr>\n",
       "    <tr>\n",
       "      <th>462</th>\n",
       "      <td>2</td>\n",
       "      <td>1</td>\n",
       "      <td>4</td>\n",
       "      <td>6</td>\n",
       "      <td>0</td>\n",
       "      <td>1</td>\n",
       "      <td>0.437500</td>\n",
       "      <td>0.426129</td>\n",
       "      <td>0.358667</td>\n",
       "      <td>0.517615</td>\n",
       "      <td>0.786355</td>\n",
       "    </tr>\n",
       "  </tbody>\n",
       "</table>\n",
       "</div>"
      ],
      "text/plain": [
       "    season yr mnth weekday workingday weathersit      temp     atemp  \\\n",
       "281      4  0   10       0          0          1  0.540833  0.523983   \n",
       "211      3  0    7       0          0          1  0.805833  0.729796   \n",
       "16       1  0    1       1          0          2  0.175833  0.176771   \n",
       "363      1  0   12       5          1          1  0.311667  0.318812   \n",
       "462      2  1    4       6          0          1  0.437500  0.426129   \n",
       "\n",
       "       casual  registered       cnt  \n",
       "281  0.358667    0.446722  0.631500  \n",
       "211  0.815212    0.398210  0.492407  \n",
       "16   0.061596    0.124603  0.112517  \n",
       "363  0.261918    0.359226  0.342499  \n",
       "462  0.358667    0.517615  0.786355  "
      ]
     },
     "execution_count": 31,
     "metadata": {},
     "output_type": "execute_result"
    }
   ],
   "source": [
    "test.head(5)"
   ]
  },
  {
   "cell_type": "code",
   "execution_count": 78,
   "metadata": {},
   "outputs": [],
   "source": [
    "#Now we are making a copy of train and test datasets for future use\n",
    "train_copy=train\n",
    "test_copy=test"
   ]
  },
  {
   "cell_type": "code",
   "execution_count": 79,
   "metadata": {},
   "outputs": [],
   "source": [
    "#Now using machine learning models let's predict the values: \n",
    "\n",
    "#Decision tree\n",
    "\n",
    "from sklearn.tree import DecisionTreeRegressor\n",
    "fit = DecisionTreeRegressor(max_depth=2).fit(train.iloc[:,0:9],train.iloc[:,10])\n",
    "predictions_Dt=fit.predict(test.iloc[:,0:9])"
   ]
  },
  {
   "cell_type": "code",
   "execution_count": 80,
   "metadata": {},
   "outputs": [
    {
     "name": "stdout",
     "output_type": "stream",
     "text": [
      "0.35889469126423207\n"
     ]
    }
   ],
   "source": [
    "#Now calculating Mape for Decision tree regressor\n",
    "\n",
    "def MAPE(y_true,y_pred):\n",
    "    mape=np.mean(np.abs((y_true-y_pred)/y_true))\n",
    "    print(mape)\n",
    "MAPE(test.iloc[:,10],predictions_Dt)\n",
    "\n",
    "#Error % = 35%\n",
    "#Accuracy % = 65%"
   ]
  },
  {
   "cell_type": "code",
   "execution_count": 85,
   "metadata": {},
   "outputs": [],
   "source": [
    "#Linear regression\n",
    "\n",
    "import statsmodels.api as sm\n",
    "model=sm.OLS(train.iloc[:,10].astype(float),train.iloc[:,0:9].astype(float)).fit()\n",
    "predictions_lm=model.predict(test.iloc[:,0:9])"
   ]
  },
  {
   "cell_type": "code",
   "execution_count": 86,
   "metadata": {},
   "outputs": [
    {
     "name": "stdout",
     "output_type": "stream",
     "text": [
      "0.19966916340957316\n"
     ]
    }
   ],
   "source": [
    "#Calculating Mape for Linear regression on the data\n",
    "def MAPE(y_true,y_pred):\n",
    "    mape=np.mean(np.abs((y_true-y_pred)/y_true))\n",
    "    print(mape)\n",
    "MAPE(test.iloc[:,10],predictions_lm)\n",
    "\n",
    "#Error % = 19%\n",
    "#Accuracy % = 81%"
   ]
  },
  {
   "cell_type": "code",
   "execution_count": null,
   "metadata": {},
   "outputs": [],
   "source": [
    "#We conclude that linear regression is providing more accuarcy i.e 84% So, we are considering the linear regression \n",
    "# to use for our future datasets."
   ]
  }
 ],
 "metadata": {
  "kernelspec": {
   "display_name": "Python 3",
   "language": "python",
   "name": "python3"
  },
  "language_info": {
   "codemirror_mode": {
    "name": "ipython",
    "version": 3
   },
   "file_extension": ".py",
   "mimetype": "text/x-python",
   "name": "python",
   "nbconvert_exporter": "python",
   "pygments_lexer": "ipython3",
   "version": "3.7.1"
  }
 },
 "nbformat": 4,
 "nbformat_minor": 2
}
